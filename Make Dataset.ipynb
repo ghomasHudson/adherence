{
 "cells": [
  {
   "cell_type": "markdown",
   "id": "b31be0b1-ce7a-4cf2-b858-6e689987bb49",
   "metadata": {},
   "source": [
    "# Make dataset from originals\n"
   ]
  },
  {
   "cell_type": "code",
   "execution_count": 83,
   "id": "ad698095-6598-4aa0-ad74-e6c5f136fee9",
   "metadata": {},
   "outputs": [
    {
     "name": "stderr",
     "output_type": "stream",
     "text": [
      "/tmp/ipykernel_563859/2621555045.py:4: DtypeWarning: Columns (13) have mixed types. Specify dtype option on import or set low_memory=False.\n",
      "  next_bloods = pd.read_csv(\"../../mnt/next_bloods.csv\")\n"
     ]
    },
    {
     "name": "stdout",
     "output_type": "stream",
     "text": [
      "\n",
      "98473 U+E blood tests\n"
     ]
    }
   ],
   "source": [
    "import json\n",
    "import pandas as pd\n",
    "\n",
    "next_bloods = pd.read_csv(\"../../mnt/next_bloods.csv\")\n",
    "\n",
    "for col in [\"DischargeDate\", \"creatinineDate\"]:\n",
    "    if \"Date\" in col:\n",
    "        next_bloods[col] = pd.to_datetime(next_bloods[col], \n",
    "            dayfirst=True,\n",
    "            format=\"mixed\",\n",
    "            errors=\"coerce\",\n",
    "        )\n",
    "        next_bloods = next_bloods[next_bloods[col].notnull()]\n",
    "\n",
    "next_bloods[\"discharge_creatinine_interval\"] = next_bloods[\"creatinineDate\"] - next_bloods[\"DischargeDate\"]\n",
    "\n",
    "print()\n",
    "print(f\"{len(next_bloods)} U+E blood tests\")"
   ]
  },
  {
   "cell_type": "markdown",
   "id": "eed47849-d907-4b69-b477-320701443a5f",
   "metadata": {},
   "source": [
    "Now load the extracted blood tests from the free text:"
   ]
  },
  {
   "cell_type": "code",
   "execution_count": 84,
   "id": "9636d282-8486-4113-9455-56f32381958c",
   "metadata": {},
   "outputs": [
    {
     "name": "stdout",
     "output_type": "stream",
     "text": [
      "3299 of which match with an extracted U+E test\n"
     ]
    }
   ],
   "source": [
    "extracted_bloods = pd.read_csv(\"../../mnt/extracted_bloods.csv\") # extracted using another script\n",
    "extracted_bloods[\"Bloods\"] = extracted_bloods[\"Bloods\"].apply(json.loads)\n",
    "extracted_bloods = extracted_bloods[extracted_bloods[\"Bloods\"].apply(len) > 0]\n",
    "\n",
    "test_names_to_filter = [\n",
    "    \"U&E\",\n",
    "    \"U+E\",\n",
    "    \"UE\",\n",
    "    \"renal\",\n",
    "    \"Renal\",\n",
    "    \"potassium\",\n",
    "    \"Potassium\",\n",
    "    \"Electrolytes\",\n",
    "    \"electrolytes\",\n",
    "    \"Na\",\n",
    "    \"Sodium\",\n",
    "    \"sodium\",\n",
    "    \"eGFR\",\n",
    "    \"K\",\n",
    "    \"Urea\",\n",
    "]\n",
    "\n",
    "def extract_ue(data):\n",
    "    timeframe_str = \"\"\n",
    "    for test in data:\n",
    "        if not isinstance(test, dict):\n",
    "            continue\n",
    "\n",
    "        for tn in test_names_to_filter:\n",
    "            if tn in test.get(\"text\", \"\"):\n",
    "                timeframe_str = test.get(\"timeframe\", \"\")\n",
    "                break\n",
    "    if len(timeframe_str) == 0:\n",
    "        return None\n",
    "    return timeframe_str\n",
    "\n",
    "extracted_bloods[\"UE_timeframe\"] = extracted_bloods[\"Bloods\"].apply(extract_ue)\n",
    "extracted_bloods = extracted_bloods.dropna(subset=[\"UE_timeframe\"])\n",
    "nb = next_bloods[[\"SpellSerial\", \"discharge_creatinine_interval\"]]\n",
    "df = extracted_bloods.merge(nb, on=\"SpellSerial\", how=\"inner\")\n",
    "\n",
    "# Add notes text back in\n",
    "notes = pd.read_csv(\"../../mnt/discharge-summaries-deid.csv\")\n",
    "notes = notes[[\"SpellSerial\", \"c_Action_required_deid_removed\"]]\n",
    "notes = notes.drop_duplicates(subset=[\"SpellSerial\"])\n",
    "df = df.merge(notes, on=\"SpellSerial\", how=\"inner\")\n",
    "\n",
    "print(f\"{len(df)} of which match with an extracted U+E test\")"
   ]
  },
  {
   "cell_type": "markdown",
   "id": "36392fd5-24c9-4c35-88cb-3119a6029ecb",
   "metadata": {},
   "source": [
    "Filter for Salford CCG"
   ]
  },
  {
   "cell_type": "code",
   "execution_count": 85,
   "id": "322c67ea-1243-483f-9800-536faf2385c7",
   "metadata": {
    "scrolled": true
   },
   "outputs": [
    {
     "name": "stdout",
     "output_type": "stream",
     "text": [
      "2233 of which are in Salford CCGs\n"
     ]
    }
   ],
   "source": [
    "df_ccg = pd.read_csv(\"../../mnt/CCGs.csv\")\n",
    "df = df.merge(df_ccg, on=\"SpellSerial\", how=\"inner\")\n",
    "df = df[df[\"CCG\"].isin([\"NHS SALFORD CCG\", \"NHS SALFORD GM - ICB\", \"NHS SALFORD GM ICB\"])]\n",
    "print(f\"{len(df)} of which are in Salford CCGs\")"
   ]
  },
  {
   "cell_type": "markdown",
   "id": "e85e44aa-53d8-421c-84a7-5a7e29bcf6e5",
   "metadata": {},
   "source": [
    "## Calculate adherence\n",
    "Convert intervals to adherence/non-adherence"
   ]
  },
  {
   "cell_type": "markdown",
   "id": "0e2ae2b7-6cb3-431e-9b09-3460de16a91b",
   "metadata": {},
   "source": [
    "First, map timeframes extracted from the free-text into number of days:"
   ]
  },
  {
   "cell_type": "code",
   "execution_count": 86,
   "id": "fb80002b-c314-4108-a25f-f9608e7f61f3",
   "metadata": {
    "scrolled": true
   },
   "outputs": [],
   "source": [
    "desc_to_days = json.load(open(\"desc_to_days.json\"))\n",
    "df[\"requested_days\"] = df[\"UE_timeframe\"].map(desc_to_days)"
   ]
  },
  {
   "cell_type": "markdown",
   "id": "8e713891-f0d5-4171-bc1b-be371d413e68",
   "metadata": {},
   "source": [
    "And extract the number of days it actually took to do the test:"
   ]
  },
  {
   "cell_type": "code",
   "execution_count": 87,
   "id": "826a6990-ab52-450b-bf96-6db36a510f19",
   "metadata": {},
   "outputs": [],
   "source": [
    "df = df.dropna(subset=['discharge_creatinine_interval', 'requested_days'])\n",
    "\n",
    "def fix_interval(row):\n",
    "    #interval = row[\"discharge_creatinine_interval\"].split(\" days\")[0]\n",
    "    interval = row[\"discharge_creatinine_interval\"].days\n",
    "    return int(interval)\n",
    "    \n",
    "df['discharge_creatinine_interval'] = df.apply(fix_interval, axis=1)"
   ]
  },
  {
   "cell_type": "markdown",
   "id": "a35993c6-7dcc-470f-ba35-64b13e52c923",
   "metadata": {},
   "source": [
    "Calculate the binary adherence/non-adherence label:"
   ]
  },
  {
   "cell_type": "code",
   "execution_count": 88,
   "id": "7a1efb90-f141-4612-85a7-621001f44f75",
   "metadata": {},
   "outputs": [
    {
     "name": "stdout",
     "output_type": "stream",
     "text": [
      "Number of adherent patients:\n",
      "adherence\n",
      "True     1534\n",
      "False     626\n",
      "Name: count, dtype: int64\n"
     ]
    }
   ],
   "source": [
    "df['min_days'] = df.apply(lambda row: int(row[\"requested_days\"].split(\"-\")[0]), axis=1)\n",
    "df['max_days'] = df.apply(lambda row: int(row[\"requested_days\"].split(\"-\")[-1]), axis=1)\n",
    "df['adherence'] = df.apply(lambda row: row[\"discharge_creatinine_interval\"] < row[\"max_days\"] + 7, axis=1)\n",
    "\n",
    "columns_to_keep = [\"SpellSerial\", \"discharge_creatinine_interval\", \"min_days\", \"max_days\", \"adherence\", \"c_Action_required_deid_removed\"]\n",
    "df = df[columns_to_keep]\n",
    "\n",
    "print(\"Number of adherent patients:\")\n",
    "print(df[\"adherence\"].value_counts())"
   ]
  },
  {
   "cell_type": "markdown",
   "id": "8efe78e8-5901-4774-8f6b-9ec790681a44",
   "metadata": {},
   "source": [
    "# Save to disk"
   ]
  },
  {
   "cell_type": "code",
   "execution_count": 90,
   "id": "ee3b5315-1692-4c97-89d5-418e248ae04b",
   "metadata": {},
   "outputs": [
    {
     "data": {
      "application/vnd.jupyter.widget-view+json": {
       "model_id": "ae9a4017364c4b1287f0c5a733a4f239",
       "version_major": 2,
       "version_minor": 0
      },
      "text/plain": [
       "Casting the dataset:   0%|          | 0/1944 [00:00<?, ? examples/s]"
      ]
     },
     "metadata": {},
     "output_type": "display_data"
    },
    {
     "data": {
      "application/vnd.jupyter.widget-view+json": {
       "model_id": "25d90be33b294593ab8d129c845d57cf",
       "version_major": 2,
       "version_minor": 0
      },
      "text/plain": [
       "Casting the dataset:   0%|          | 0/216 [00:00<?, ? examples/s]"
      ]
     },
     "metadata": {},
     "output_type": "display_data"
    },
    {
     "data": {
      "application/vnd.jupyter.widget-view+json": {
       "model_id": "b615434cc5a54304a27931c3043f3e4e",
       "version_major": 2,
       "version_minor": 0
      },
      "text/plain": [
       "Creating CSV from Arrow format:   0%|          | 0/2 [00:00<?, ?ba/s]"
      ]
     },
     "metadata": {},
     "output_type": "display_data"
    },
    {
     "data": {
      "application/vnd.jupyter.widget-view+json": {
       "model_id": "30d8abc39a084a60b743b2fddaf38262",
       "version_major": 2,
       "version_minor": 0
      },
      "text/plain": [
       "Creating CSV from Arrow format:   0%|          | 0/1 [00:00<?, ?ba/s]"
      ]
     },
     "metadata": {},
     "output_type": "display_data"
    },
    {
     "data": {
      "text/plain": [
       "DatasetDict({\n",
       "    train: Dataset({\n",
       "        features: ['text', 'labels', '__index_level_0__'],\n",
       "        num_rows: 1944\n",
       "    })\n",
       "    test: Dataset({\n",
       "        features: ['text', 'labels', '__index_level_0__'],\n",
       "        num_rows: 216\n",
       "    })\n",
       "})"
      ]
     },
     "execution_count": 90,
     "metadata": {},
     "output_type": "execute_result"
    }
   ],
   "source": [
    "from datasets import Dataset, Value\n",
    "\n",
    "df_out = df.copy()\n",
    "df_out = df_out[[\"c_Action_required_deid_removed\", \"adherence\"]]\n",
    "\n",
    "ds = Dataset.from_pandas(df_out)\n",
    "ds = ds.train_test_split(seed=42, test_size=0.1)\n",
    "ds = ds.rename_column(\"c_Action_required_deid_removed\", \"text\")\n",
    "ds = ds.rename_column(\"adherence\", \"labels\")\n",
    "\n",
    "# Map label to int\n",
    "new_features = ds[\"train\"].features.copy()\n",
    "new_features[\"labels\"] = Value('int64')\n",
    "ds = ds.cast(new_features)\n",
    "\n",
    "ds[\"train\"].to_csv(\"train.csv\")\n",
    "ds[\"test\"].to_csv(\"test.csv\")\n",
    "ds"
   ]
  }
 ],
 "metadata": {
  "kernelspec": {
   "display_name": "Python 3 (ipykernel)",
   "language": "python",
   "name": "python3"
  },
  "language_info": {
   "codemirror_mode": {
    "name": "ipython",
    "version": 3
   },
   "file_extension": ".py",
   "mimetype": "text/x-python",
   "name": "python",
   "nbconvert_exporter": "python",
   "pygments_lexer": "ipython3",
   "version": "3.13.2"
  }
 },
 "nbformat": 4,
 "nbformat_minor": 5
}
