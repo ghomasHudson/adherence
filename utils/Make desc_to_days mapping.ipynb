{
 "cells": [
  {
   "cell_type": "code",
   "execution_count": 3,
   "id": "872bc908-a9d7-4637-aa2c-02fc976f394e",
   "metadata": {},
   "outputs": [],
   "source": [
    "import pandas as pd"
   ]
  },
  {
   "cell_type": "code",
   "execution_count": 14,
   "id": "87433f9a-d70a-4fc0-b47e-5bd37e73845e",
   "metadata": {},
   "outputs": [],
   "source": [
    "df = pd.read_csv(\"../../mnt/ue_parsed_4.csv\")"
   ]
  },
  {
   "cell_type": "code",
   "execution_count": 19,
   "id": "32d5d7b0-2129-4e9e-b166-e9b3bb3496ea",
   "metadata": {},
   "outputs": [],
   "source": [
    "desc_to_days = {}\n",
    "for row in df.iloc:\n",
    "    if str(row[\"days\"]) != \"nan\":\n",
    "        desc_to_days[row[\"UE_timeframe\"]] = row[\"days\"]"
   ]
  },
  {
   "cell_type": "code",
   "execution_count": 22,
   "id": "03f66c58-a436-4fe6-b7e9-f148a18395e6",
   "metadata": {
    "scrolled": true
   },
   "outputs": [],
   "source": [
    "import json\n",
    "json.dump(desc_to_days, open(\"desc_to_days.json\", 'w'))"
   ]
  }
 ],
 "metadata": {
  "kernelspec": {
   "display_name": "Python 3 (ipykernel)",
   "language": "python",
   "name": "python3"
  },
  "language_info": {
   "codemirror_mode": {
    "name": "ipython",
    "version": 3
   },
   "file_extension": ".py",
   "mimetype": "text/x-python",
   "name": "python",
   "nbconvert_exporter": "python",
   "pygments_lexer": "ipython3",
   "version": "3.13.2"
  }
 },
 "nbformat": 4,
 "nbformat_minor": 5
}
